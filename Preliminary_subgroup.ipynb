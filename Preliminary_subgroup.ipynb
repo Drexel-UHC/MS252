{
 "cells": [
  {
   "cell_type": "markdown",
   "id": "26e690d9",
   "metadata": {},
   "source": [
    "# Process data (for future loading)"
   ]
  },
  {
   "cell_type": "code",
   "execution_count": null,
   "id": "6845e8cb",
   "metadata": {},
   "outputs": [],
   "source": [
    "import pandas as pd\n",
    "import re\n",
    "import os\n",
    "import matplotlib.pyplot as plt\n",
    "import pickle\n",
    "import numpy as np\n",
    "# pip install pykml\n",
    "# pip install fastkml\n",
    "# import sweat\n",
    "import statsmodels.api as sm\n",
    "from statsmodels.formula.api import ols\n",
    "import statsmodels.discrete.discrete_model as dm\n",
    "import statsmodels.formula.api as smf\n",
    "from statsmodels.discrete.conditional_models import ConditionalPoisson\n",
    "from statsmodels.discrete.conditional_models import ConditionalLogit\n",
    "from statsmodels.regression.mixed_linear_model import MixedLM\n",
    "import pykml\n",
    "import overpass\n",
    "from pykml import parser\n",
    "from math import radians, sin, cos, sqrt, atan2\n",
    "from geopy.distance import geodesic\n",
    "from fastkml import kml\n",
    "from datetime import datetime, timedelta\n",
    "from shapely.geometry import Point\n",
    "import pytz\n",
    "import matplotlib.pyplot as plt\n",
    "from gpxcsv import gpxtolist\n",
    "import seaborn as sns\n",
    "\n",
    "import pandas as pd\n",
    "import geopandas as gpd\n",
    "import matplotlib.pyplot as plt\n",
    "import gpxpy\n",
    "import os\n",
    "from datetime import datetime, time\n",
    "\n",
    "# import tcxparser"
   ]
  },
  {
   "cell_type": "code",
   "execution_count": 2,
   "id": "f7a5653f-da5d-4394-a04f-3216d1f898e2",
   "metadata": {},
   "outputs": [],
   "source": [
    "# Assuming your files are in the specified directory\n",
    "directory = '\\\\\\\\files.drexel.edu\\\\colleges\\\\SOPH\\\\Shared\\\\UHC\\\\Projects\\\\Wellcome_Trust\\\\Manuscripts\\\\MS252_Hsu\\\\Data Build\\\\Prelim Derived Data\\\\'\n",
    "file_pattern = re.compile(r'c(\\d+).sas7bdat')\n",
    "\n",
    "# List all files in the specified directory with the specified pattern\n",
    "files = [file for file in os.listdir(directory) if file_pattern.match(file)]"
   ]
  },
  {
   "cell_type": "code",
   "execution_count": 3,
   "id": "f942163d-22c4-49df-a931-52152d24cacb",
   "metadata": {},
   "outputs": [],
   "source": [
    "# Function to extract the number from the filename\n",
    "def extract_number(filename):\n",
    "    match = file_pattern.match(filename)\n",
    "    if match:\n",
    "        return int(match.group(1))\n",
    "    else:\n",
    "        return None\n",
    "\n",
    "# Read each file into a DataFrame and name it accordingly\n",
    "dataframes = {}\n",
    "for file in files:\n",
    "    number = extract_number(file)\n",
    "    if number is not None:\n",
    "        # Provide the full path to the file\n",
    "        full_path = os.path.join(directory, file)\n",
    "        dataframes[number] = pd.read_sas(full_path)\n",
    "\n",
    "def strata(df):\n",
    "    df['year'] = df['allDate'].dt.year.astype(str)\n",
    "    df['year-month'] = df['allDate'].dt.year.astype(str) + '-' + df['allDate'].dt.month.astype(str)\n",
    "    df['doy'] = df['allDate'].dt.dayofyear  # Day of the year\n",
    "    df['dow'] = df['allDate'].dt.day_name()  # Day of the week\n",
    "    df['year-month-dow'] = df['year-month'] + '-' + df['dow'].astype(str)\n",
    "    return df"
   ]
  },
  {
   "cell_type": "code",
   "execution_count": 4,
   "id": "8a517a2b",
   "metadata": {},
   "outputs": [
    {
     "ename": "KeyError",
     "evalue": "'L1ADtemp_pw'",
     "output_type": "error",
     "traceback": [
      "\u001b[1;31m---------------------------------------------------------------------------\u001b[0m",
      "\u001b[1;31mKeyError\u001b[0m                                  Traceback (most recent call last)",
      "File \u001b[1;32m\\\\?\\C:\\Users\\dpw48\\AppData\\Roaming\\jupyterlab-desktop\\jlab_server\\Lib\\site-packages\\pandas\\core\\indexes\\base.py:3805\u001b[0m, in \u001b[0;36mIndex.get_loc\u001b[1;34m(self, key)\u001b[0m\n\u001b[0;32m   3804\u001b[0m \u001b[38;5;28;01mtry\u001b[39;00m:\n\u001b[1;32m-> 3805\u001b[0m     \u001b[38;5;28;01mreturn\u001b[39;00m \u001b[38;5;28;43mself\u001b[39;49m\u001b[38;5;241;43m.\u001b[39;49m\u001b[43m_engine\u001b[49m\u001b[38;5;241;43m.\u001b[39;49m\u001b[43mget_loc\u001b[49m\u001b[43m(\u001b[49m\u001b[43mcasted_key\u001b[49m\u001b[43m)\u001b[49m\n\u001b[0;32m   3806\u001b[0m \u001b[38;5;28;01mexcept\u001b[39;00m \u001b[38;5;167;01mKeyError\u001b[39;00m \u001b[38;5;28;01mas\u001b[39;00m err:\n",
      "File \u001b[1;32mindex.pyx:167\u001b[0m, in \u001b[0;36mpandas._libs.index.IndexEngine.get_loc\u001b[1;34m()\u001b[0m\n",
      "File \u001b[1;32mindex.pyx:196\u001b[0m, in \u001b[0;36mpandas._libs.index.IndexEngine.get_loc\u001b[1;34m()\u001b[0m\n",
      "File \u001b[1;32mpandas\\\\_libs\\\\hashtable_class_helper.pxi:7081\u001b[0m, in \u001b[0;36mpandas._libs.hashtable.PyObjectHashTable.get_item\u001b[1;34m()\u001b[0m\n",
      "File \u001b[1;32mpandas\\\\_libs\\\\hashtable_class_helper.pxi:7089\u001b[0m, in \u001b[0;36mpandas._libs.hashtable.PyObjectHashTable.get_item\u001b[1;34m()\u001b[0m\n",
      "\u001b[1;31mKeyError\u001b[0m: 'L1ADtemp_pw'",
      "\nThe above exception was the direct cause of the following exception:\n",
      "\u001b[1;31mKeyError\u001b[0m                                  Traceback (most recent call last)",
      "Cell \u001b[1;32mIn[4], line 41\u001b[0m\n\u001b[0;32m     39\u001b[0m \u001b[38;5;28;01mfor\u001b[39;00m number, df \u001b[38;5;129;01min\u001b[39;00m dataframes\u001b[38;5;241m.\u001b[39mitems():\n\u001b[0;32m     40\u001b[0m     df[\u001b[38;5;124m'\u001b[39m\u001b[38;5;124mallDate\u001b[39m\u001b[38;5;124m'\u001b[39m] \u001b[38;5;241m=\u001b[39m pd\u001b[38;5;241m.\u001b[39mto_datetime(df[\u001b[38;5;124m'\u001b[39m\u001b[38;5;124mallDate\u001b[39m\u001b[38;5;124m'\u001b[39m])  \u001b[38;5;66;03m# Ensure allDate is in datetime format\u001b[39;00m\n\u001b[1;32m---> 41\u001b[0m     grouped_df \u001b[38;5;241m=\u001b[39m \u001b[43mdf\u001b[49m\u001b[38;5;241;43m.\u001b[39;49m\u001b[43mgroupby\u001b[49m\u001b[43m(\u001b[49m\u001b[38;5;124;43m'\u001b[39;49m\u001b[38;5;124;43mallDate\u001b[39;49m\u001b[38;5;124;43m'\u001b[39;49m\u001b[43m)\u001b[49m\u001b[38;5;241;43m.\u001b[39;49m\u001b[43mapply\u001b[49m\u001b[43m(\u001b[49m\u001b[43mcustom_summary_functions\u001b[49m\u001b[43m)\u001b[49m\u001b[38;5;241m.\u001b[39mreset_index()\n\u001b[0;32m     42\u001b[0m     result_dataframes[number] \u001b[38;5;241m=\u001b[39m strata(grouped_df)\n\u001b[0;32m     44\u001b[0m \u001b[38;5;66;03m# Now result_dataframes contains the processed DataFrames with additional death categories\u001b[39;00m\n",
      "File \u001b[1;32m\\\\?\\C:\\Users\\dpw48\\AppData\\Roaming\\jupyterlab-desktop\\jlab_server\\Lib\\site-packages\\pandas\\core\\groupby\\groupby.py:1824\u001b[0m, in \u001b[0;36mGroupBy.apply\u001b[1;34m(self, func, include_groups, *args, **kwargs)\u001b[0m\n\u001b[0;32m   1822\u001b[0m \u001b[38;5;28;01mwith\u001b[39;00m option_context(\u001b[38;5;124m\"\u001b[39m\u001b[38;5;124mmode.chained_assignment\u001b[39m\u001b[38;5;124m\"\u001b[39m, \u001b[38;5;28;01mNone\u001b[39;00m):\n\u001b[0;32m   1823\u001b[0m     \u001b[38;5;28;01mtry\u001b[39;00m:\n\u001b[1;32m-> 1824\u001b[0m         result \u001b[38;5;241m=\u001b[39m \u001b[38;5;28;43mself\u001b[39;49m\u001b[38;5;241;43m.\u001b[39;49m\u001b[43m_python_apply_general\u001b[49m\u001b[43m(\u001b[49m\u001b[43mf\u001b[49m\u001b[43m,\u001b[49m\u001b[43m \u001b[49m\u001b[38;5;28;43mself\u001b[39;49m\u001b[38;5;241;43m.\u001b[39;49m\u001b[43m_selected_obj\u001b[49m\u001b[43m)\u001b[49m\n\u001b[0;32m   1825\u001b[0m         \u001b[38;5;28;01mif\u001b[39;00m (\n\u001b[0;32m   1826\u001b[0m             \u001b[38;5;129;01mnot\u001b[39;00m \u001b[38;5;28misinstance\u001b[39m(\u001b[38;5;28mself\u001b[39m\u001b[38;5;241m.\u001b[39mobj, Series)\n\u001b[0;32m   1827\u001b[0m             \u001b[38;5;129;01mand\u001b[39;00m \u001b[38;5;28mself\u001b[39m\u001b[38;5;241m.\u001b[39m_selection \u001b[38;5;129;01mis\u001b[39;00m \u001b[38;5;28;01mNone\u001b[39;00m\n\u001b[0;32m   1828\u001b[0m             \u001b[38;5;129;01mand\u001b[39;00m \u001b[38;5;28mself\u001b[39m\u001b[38;5;241m.\u001b[39m_selected_obj\u001b[38;5;241m.\u001b[39mshape \u001b[38;5;241m!=\u001b[39m \u001b[38;5;28mself\u001b[39m\u001b[38;5;241m.\u001b[39m_obj_with_exclusions\u001b[38;5;241m.\u001b[39mshape\n\u001b[0;32m   1829\u001b[0m         ):\n\u001b[0;32m   1830\u001b[0m             warnings\u001b[38;5;241m.\u001b[39mwarn(\n\u001b[0;32m   1831\u001b[0m                 message\u001b[38;5;241m=\u001b[39m_apply_groupings_depr\u001b[38;5;241m.\u001b[39mformat(\n\u001b[0;32m   1832\u001b[0m                     \u001b[38;5;28mtype\u001b[39m(\u001b[38;5;28mself\u001b[39m)\u001b[38;5;241m.\u001b[39m\u001b[38;5;18m__name__\u001b[39m, \u001b[38;5;124m\"\u001b[39m\u001b[38;5;124mapply\u001b[39m\u001b[38;5;124m\"\u001b[39m\n\u001b[1;32m   (...)\u001b[0m\n\u001b[0;32m   1835\u001b[0m                 stacklevel\u001b[38;5;241m=\u001b[39mfind_stack_level(),\n\u001b[0;32m   1836\u001b[0m             )\n",
      "File \u001b[1;32m\\\\?\\C:\\Users\\dpw48\\AppData\\Roaming\\jupyterlab-desktop\\jlab_server\\Lib\\site-packages\\pandas\\core\\groupby\\groupby.py:1885\u001b[0m, in \u001b[0;36mGroupBy._python_apply_general\u001b[1;34m(self, f, data, not_indexed_same, is_transform, is_agg)\u001b[0m\n\u001b[0;32m   1850\u001b[0m \u001b[38;5;129m@final\u001b[39m\n\u001b[0;32m   1851\u001b[0m \u001b[38;5;28;01mdef\u001b[39;00m \u001b[38;5;21m_python_apply_general\u001b[39m(\n\u001b[0;32m   1852\u001b[0m     \u001b[38;5;28mself\u001b[39m,\n\u001b[1;32m   (...)\u001b[0m\n\u001b[0;32m   1857\u001b[0m     is_agg: \u001b[38;5;28mbool\u001b[39m \u001b[38;5;241m=\u001b[39m \u001b[38;5;28;01mFalse\u001b[39;00m,\n\u001b[0;32m   1858\u001b[0m ) \u001b[38;5;241m-\u001b[39m\u001b[38;5;241m>\u001b[39m NDFrameT:\n\u001b[0;32m   1859\u001b[0m \u001b[38;5;250m    \u001b[39m\u001b[38;5;124;03m\"\"\"\u001b[39;00m\n\u001b[0;32m   1860\u001b[0m \u001b[38;5;124;03m    Apply function f in python space\u001b[39;00m\n\u001b[0;32m   1861\u001b[0m \n\u001b[1;32m   (...)\u001b[0m\n\u001b[0;32m   1883\u001b[0m \u001b[38;5;124;03m        data after applying f\u001b[39;00m\n\u001b[0;32m   1884\u001b[0m \u001b[38;5;124;03m    \"\"\"\u001b[39;00m\n\u001b[1;32m-> 1885\u001b[0m     values, mutated \u001b[38;5;241m=\u001b[39m \u001b[38;5;28;43mself\u001b[39;49m\u001b[38;5;241;43m.\u001b[39;49m\u001b[43m_grouper\u001b[49m\u001b[38;5;241;43m.\u001b[39;49m\u001b[43mapply_groupwise\u001b[49m\u001b[43m(\u001b[49m\u001b[43mf\u001b[49m\u001b[43m,\u001b[49m\u001b[43m \u001b[49m\u001b[43mdata\u001b[49m\u001b[43m,\u001b[49m\u001b[43m \u001b[49m\u001b[38;5;28;43mself\u001b[39;49m\u001b[38;5;241;43m.\u001b[39;49m\u001b[43maxis\u001b[49m\u001b[43m)\u001b[49m\n\u001b[0;32m   1886\u001b[0m     \u001b[38;5;28;01mif\u001b[39;00m not_indexed_same \u001b[38;5;129;01mis\u001b[39;00m \u001b[38;5;28;01mNone\u001b[39;00m:\n\u001b[0;32m   1887\u001b[0m         not_indexed_same \u001b[38;5;241m=\u001b[39m mutated\n",
      "File \u001b[1;32m\\\\?\\C:\\Users\\dpw48\\AppData\\Roaming\\jupyterlab-desktop\\jlab_server\\Lib\\site-packages\\pandas\\core\\groupby\\ops.py:919\u001b[0m, in \u001b[0;36mBaseGrouper.apply_groupwise\u001b[1;34m(self, f, data, axis)\u001b[0m\n\u001b[0;32m    917\u001b[0m \u001b[38;5;66;03m# group might be modified\u001b[39;00m\n\u001b[0;32m    918\u001b[0m group_axes \u001b[38;5;241m=\u001b[39m group\u001b[38;5;241m.\u001b[39maxes\n\u001b[1;32m--> 919\u001b[0m res \u001b[38;5;241m=\u001b[39m \u001b[43mf\u001b[49m\u001b[43m(\u001b[49m\u001b[43mgroup\u001b[49m\u001b[43m)\u001b[49m\n\u001b[0;32m    920\u001b[0m \u001b[38;5;28;01mif\u001b[39;00m \u001b[38;5;129;01mnot\u001b[39;00m mutated \u001b[38;5;129;01mand\u001b[39;00m \u001b[38;5;129;01mnot\u001b[39;00m _is_indexed_like(res, group_axes, axis):\n\u001b[0;32m    921\u001b[0m     mutated \u001b[38;5;241m=\u001b[39m \u001b[38;5;28;01mTrue\u001b[39;00m\n",
      "Cell \u001b[1;32mIn[4], line 22\u001b[0m, in \u001b[0;36mcustom_summary_functions\u001b[1;34m(group)\u001b[0m\n\u001b[0;32m      8\u001b[0m     deaths_35_64 \u001b[38;5;241m=\u001b[39m group[group[\u001b[38;5;124m'\u001b[39m\u001b[38;5;124mage_cat\u001b[39m\u001b[38;5;124m'\u001b[39m] \u001b[38;5;241m==\u001b[39m \u001b[38;5;124mb\u001b[39m\u001b[38;5;124m'\u001b[39m\u001b[38;5;124m35-64\u001b[39m\u001b[38;5;124m'\u001b[39m][\u001b[38;5;124m'\u001b[39m\u001b[38;5;124mmedian_road\u001b[39m\u001b[38;5;124m'\u001b[39m]\u001b[38;5;241m.\u001b[39msum()\n\u001b[0;32m      9\u001b[0m     deaths_65_plus \u001b[38;5;241m=\u001b[39m group[group[\u001b[38;5;124m'\u001b[39m\u001b[38;5;124mage_cat\u001b[39m\u001b[38;5;124m'\u001b[39m] \u001b[38;5;241m==\u001b[39m \u001b[38;5;124mb\u001b[39m\u001b[38;5;124m'\u001b[39m\u001b[38;5;124m65+\u001b[39m\u001b[38;5;124m'\u001b[39m][\u001b[38;5;124m'\u001b[39m\u001b[38;5;124mmedian_road\u001b[39m\u001b[38;5;124m'\u001b[39m]\u001b[38;5;241m.\u001b[39msum()\n\u001b[0;32m     11\u001b[0m     \u001b[38;5;28;01mreturn\u001b[39;00m pd\u001b[38;5;241m.\u001b[39mSeries({\n\u001b[0;32m     12\u001b[0m         \u001b[38;5;124m'\u001b[39m\u001b[38;5;124mcountry\u001b[39m\u001b[38;5;124m'\u001b[39m: group[\u001b[38;5;124m'\u001b[39m\u001b[38;5;124mcountry\u001b[39m\u001b[38;5;124m'\u001b[39m]\u001b[38;5;241m.\u001b[39miloc[\u001b[38;5;241m0\u001b[39m],\n\u001b[0;32m     13\u001b[0m         \u001b[38;5;124m'\u001b[39m\u001b[38;5;124mcity_size\u001b[39m\u001b[38;5;124m'\u001b[39m: group[\u001b[38;5;124m'\u001b[39m\u001b[38;5;124mcity_size\u001b[39m\u001b[38;5;124m'\u001b[39m]\u001b[38;5;241m.\u001b[39miloc[\u001b[38;5;241m0\u001b[39m],\n\u001b[0;32m     14\u001b[0m \u001b[38;5;66;03m#         'pop_count': group['pop_count'].iloc[0],\u001b[39;00m\n\u001b[0;32m     15\u001b[0m         \u001b[38;5;124m'\u001b[39m\u001b[38;5;124msalid1\u001b[39m\u001b[38;5;124m'\u001b[39m: group[\u001b[38;5;124m'\u001b[39m\u001b[38;5;124msalid1\u001b[39m\u001b[38;5;124m'\u001b[39m]\u001b[38;5;241m.\u001b[39miloc[\u001b[38;5;241m0\u001b[39m],\n\u001b[0;32m     16\u001b[0m         \u001b[38;5;124m'\u001b[39m\u001b[38;5;124mdeaths\u001b[39m\u001b[38;5;124m'\u001b[39m: group[\u001b[38;5;124m'\u001b[39m\u001b[38;5;124mdeaths\u001b[39m\u001b[38;5;124m'\u001b[39m]\u001b[38;5;241m.\u001b[39msum(),\n\u001b[0;32m     17\u001b[0m         \u001b[38;5;124m'\u001b[39m\u001b[38;5;124mmedian_road_round\u001b[39m\u001b[38;5;124m'\u001b[39m: group[\u001b[38;5;124m'\u001b[39m\u001b[38;5;124mmedian_road\u001b[39m\u001b[38;5;124m'\u001b[39m]\u001b[38;5;241m.\u001b[39msum(),\n\u001b[0;32m     18\u001b[0m         \u001b[38;5;124m'\u001b[39m\u001b[38;5;124mmedian_vehicle_round\u001b[39m\u001b[38;5;124m'\u001b[39m: group[\u001b[38;5;124m'\u001b[39m\u001b[38;5;124mmedian_vehicle\u001b[39m\u001b[38;5;124m'\u001b[39m]\u001b[38;5;241m.\u001b[39msum(),\n\u001b[0;32m     19\u001b[0m         \u001b[38;5;124m'\u001b[39m\u001b[38;5;124mmedian_motorcycle_round\u001b[39m\u001b[38;5;124m'\u001b[39m: group[\u001b[38;5;124m'\u001b[39m\u001b[38;5;124mmedian_motorcycle\u001b[39m\u001b[38;5;124m'\u001b[39m]\u001b[38;5;241m.\u001b[39msum(),\n\u001b[0;32m     20\u001b[0m         \u001b[38;5;124m'\u001b[39m\u001b[38;5;124mmedian_bicycle_round\u001b[39m\u001b[38;5;124m'\u001b[39m: group[\u001b[38;5;124m'\u001b[39m\u001b[38;5;124mmedian_bicycle\u001b[39m\u001b[38;5;124m'\u001b[39m]\u001b[38;5;241m.\u001b[39msum(),\n\u001b[0;32m     21\u001b[0m         \u001b[38;5;124m'\u001b[39m\u001b[38;5;124mmedian_ped_round\u001b[39m\u001b[38;5;124m'\u001b[39m: group[\u001b[38;5;124m'\u001b[39m\u001b[38;5;124mmedian_ped\u001b[39m\u001b[38;5;124m'\u001b[39m]\u001b[38;5;241m.\u001b[39msum(),\n\u001b[1;32m---> 22\u001b[0m         \u001b[38;5;124m'\u001b[39m\u001b[38;5;124mL1ADtemp_pw\u001b[39m\u001b[38;5;124m'\u001b[39m: \u001b[43mgroup\u001b[49m\u001b[43m[\u001b[49m\u001b[38;5;124;43m'\u001b[39;49m\u001b[38;5;124;43mL1ADtemp_pw\u001b[39;49m\u001b[38;5;124;43m'\u001b[39;49m\u001b[43m]\u001b[49m\u001b[38;5;241m.\u001b[39mmean(),\n\u001b[0;32m     23\u001b[0m         \u001b[38;5;124m'\u001b[39m\u001b[38;5;124mL1ADtemp_x\u001b[39m\u001b[38;5;124m'\u001b[39m: group[\u001b[38;5;124m'\u001b[39m\u001b[38;5;124mL1ADtemp_x\u001b[39m\u001b[38;5;124m'\u001b[39m]\u001b[38;5;241m.\u001b[39mmean(),\n\u001b[0;32m     24\u001b[0m         \u001b[38;5;124m'\u001b[39m\u001b[38;5;124mtmp_pw_percentile\u001b[39m\u001b[38;5;124m'\u001b[39m: group[\u001b[38;5;124m'\u001b[39m\u001b[38;5;124mtmp_pw_percentile\u001b[39m\u001b[38;5;124m'\u001b[39m]\u001b[38;5;241m.\u001b[39mmean(),\n\u001b[0;32m     25\u001b[0m         \u001b[38;5;124m'\u001b[39m\u001b[38;5;124mtmp_x_percentile\u001b[39m\u001b[38;5;124m'\u001b[39m: group[\u001b[38;5;124m'\u001b[39m\u001b[38;5;124mtmp_x_percentile\u001b[39m\u001b[38;5;124m'\u001b[39m]\u001b[38;5;241m.\u001b[39mmean(),\n\u001b[0;32m     26\u001b[0m         \u001b[38;5;124m'\u001b[39m\u001b[38;5;124mmale_deaths\u001b[39m\u001b[38;5;124m'\u001b[39m: male_deaths,\n\u001b[0;32m     27\u001b[0m         \u001b[38;5;124m'\u001b[39m\u001b[38;5;124mfemale_deaths\u001b[39m\u001b[38;5;124m'\u001b[39m: female_deaths,\n\u001b[0;32m     28\u001b[0m         \u001b[38;5;124m'\u001b[39m\u001b[38;5;124mdeaths_under_9\u001b[39m\u001b[38;5;124m'\u001b[39m: deaths_under_9,\n\u001b[0;32m     29\u001b[0m         \u001b[38;5;124m'\u001b[39m\u001b[38;5;124mdeaths_10_19\u001b[39m\u001b[38;5;124m'\u001b[39m: deaths_10_19,\n\u001b[0;32m     30\u001b[0m         \u001b[38;5;124m'\u001b[39m\u001b[38;5;124mdeaths_20_34\u001b[39m\u001b[38;5;124m'\u001b[39m: deaths_20_34,\n\u001b[0;32m     31\u001b[0m         \u001b[38;5;124m'\u001b[39m\u001b[38;5;124mdeaths_35_64\u001b[39m\u001b[38;5;124m'\u001b[39m: deaths_35_64,\n\u001b[0;32m     32\u001b[0m         \u001b[38;5;124m'\u001b[39m\u001b[38;5;124mdeaths_65_plus\u001b[39m\u001b[38;5;124m'\u001b[39m: deaths_65_plus\n\u001b[0;32m     33\u001b[0m     })\n",
      "File \u001b[1;32m\\\\?\\C:\\Users\\dpw48\\AppData\\Roaming\\jupyterlab-desktop\\jlab_server\\Lib\\site-packages\\pandas\\core\\frame.py:4102\u001b[0m, in \u001b[0;36mDataFrame.__getitem__\u001b[1;34m(self, key)\u001b[0m\n\u001b[0;32m   4100\u001b[0m \u001b[38;5;28;01mif\u001b[39;00m \u001b[38;5;28mself\u001b[39m\u001b[38;5;241m.\u001b[39mcolumns\u001b[38;5;241m.\u001b[39mnlevels \u001b[38;5;241m>\u001b[39m \u001b[38;5;241m1\u001b[39m:\n\u001b[0;32m   4101\u001b[0m     \u001b[38;5;28;01mreturn\u001b[39;00m \u001b[38;5;28mself\u001b[39m\u001b[38;5;241m.\u001b[39m_getitem_multilevel(key)\n\u001b[1;32m-> 4102\u001b[0m indexer \u001b[38;5;241m=\u001b[39m \u001b[38;5;28;43mself\u001b[39;49m\u001b[38;5;241;43m.\u001b[39;49m\u001b[43mcolumns\u001b[49m\u001b[38;5;241;43m.\u001b[39;49m\u001b[43mget_loc\u001b[49m\u001b[43m(\u001b[49m\u001b[43mkey\u001b[49m\u001b[43m)\u001b[49m\n\u001b[0;32m   4103\u001b[0m \u001b[38;5;28;01mif\u001b[39;00m is_integer(indexer):\n\u001b[0;32m   4104\u001b[0m     indexer \u001b[38;5;241m=\u001b[39m [indexer]\n",
      "File \u001b[1;32m\\\\?\\C:\\Users\\dpw48\\AppData\\Roaming\\jupyterlab-desktop\\jlab_server\\Lib\\site-packages\\pandas\\core\\indexes\\base.py:3812\u001b[0m, in \u001b[0;36mIndex.get_loc\u001b[1;34m(self, key)\u001b[0m\n\u001b[0;32m   3807\u001b[0m     \u001b[38;5;28;01mif\u001b[39;00m \u001b[38;5;28misinstance\u001b[39m(casted_key, \u001b[38;5;28mslice\u001b[39m) \u001b[38;5;129;01mor\u001b[39;00m (\n\u001b[0;32m   3808\u001b[0m         \u001b[38;5;28misinstance\u001b[39m(casted_key, abc\u001b[38;5;241m.\u001b[39mIterable)\n\u001b[0;32m   3809\u001b[0m         \u001b[38;5;129;01mand\u001b[39;00m \u001b[38;5;28many\u001b[39m(\u001b[38;5;28misinstance\u001b[39m(x, \u001b[38;5;28mslice\u001b[39m) \u001b[38;5;28;01mfor\u001b[39;00m x \u001b[38;5;129;01min\u001b[39;00m casted_key)\n\u001b[0;32m   3810\u001b[0m     ):\n\u001b[0;32m   3811\u001b[0m         \u001b[38;5;28;01mraise\u001b[39;00m InvalidIndexError(key)\n\u001b[1;32m-> 3812\u001b[0m     \u001b[38;5;28;01mraise\u001b[39;00m \u001b[38;5;167;01mKeyError\u001b[39;00m(key) \u001b[38;5;28;01mfrom\u001b[39;00m \u001b[38;5;21;01merr\u001b[39;00m\n\u001b[0;32m   3813\u001b[0m \u001b[38;5;28;01mexcept\u001b[39;00m \u001b[38;5;167;01mTypeError\u001b[39;00m:\n\u001b[0;32m   3814\u001b[0m     \u001b[38;5;66;03m# If we have a listlike key, _check_indexing_error will raise\u001b[39;00m\n\u001b[0;32m   3815\u001b[0m     \u001b[38;5;66;03m#  InvalidIndexError. Otherwise we fall through and re-raise\u001b[39;00m\n\u001b[0;32m   3816\u001b[0m     \u001b[38;5;66;03m#  the TypeError.\u001b[39;00m\n\u001b[0;32m   3817\u001b[0m     \u001b[38;5;28mself\u001b[39m\u001b[38;5;241m.\u001b[39m_check_indexing_error(key)\n",
      "\u001b[1;31mKeyError\u001b[0m: 'L1ADtemp_pw'"
     ]
    }
   ],
   "source": [
    "def custom_summary_functions(group):\n",
    "    # Summarize deaths based on gender and age categories\n",
    "    male_deaths = group[group['male'] == 1]['median_road'].sum()\n",
    "    female_deaths = group[group['male'] == 0]['median_road'].sum()\n",
    "    deaths_under_9 = group[group['age_cat'] == b'<=9']['median_road'].sum()\n",
    "    deaths_10_19 = group[group['age_cat'] == b'10-19']['median_road'].sum()\n",
    "    deaths_20_34 = group[group['age_cat'] == b'20-34']['median_road'].sum()\n",
    "    deaths_35_64 = group[group['age_cat'] == b'35-64']['median_road'].sum()\n",
    "    deaths_65_plus = group[group['age_cat'] == b'65+']['median_road'].sum()\n",
    "\n",
    "    return pd.Series({\n",
    "        'country': group['country'].iloc[0],\n",
    "        'city_size': group['city_size'].iloc[0],\n",
    "#         'pop_count': group['pop_count'].iloc[0],\n",
    "        'salid1': group['salid1'].iloc[0],\n",
    "        'deaths': group['deaths'].sum(),\n",
    "        'median_road_round': group['median_road'].sum(),\n",
    "        'median_vehicle_round': group['median_vehicle'].sum(),\n",
    "        'median_motorcycle_round': group['median_motorcycle'].sum(),\n",
    "        'median_bicycle_round': group['median_bicycle'].sum(),\n",
    "        'median_ped_round': group['median_ped'].sum(),\n",
    "        'L1ADtemp_pw': group['L1ADtemp_pw'].mean(),\n",
    "        'L1ADtemp_x': group['L1ADtemp_x'].mean(),\n",
    "        'tmp_pw_percentile': group['tmp_pw_percentile'].mean(),\n",
    "        'tmp_x_percentile': group['tmp_x_percentile'].mean(),\n",
    "        'male_deaths': male_deaths,\n",
    "        'female_deaths': female_deaths,\n",
    "        'deaths_under_9': deaths_under_9,\n",
    "        'deaths_10_19': deaths_10_19,\n",
    "        'deaths_20_34': deaths_20_34,\n",
    "        'deaths_35_64': deaths_35_64,\n",
    "        'deaths_65_plus': deaths_65_plus\n",
    "    })\n",
    "\n",
    "# Define a dictionary to store the resulting dataframes\n",
    "result_dataframes = {}\n",
    "\n",
    "# Iterate through dataframes and apply custom summary functions\n",
    "for number, df in dataframes.items():\n",
    "    df['allDate'] = pd.to_datetime(df['allDate'])  # Ensure allDate is in datetime format\n",
    "    grouped_df = df.groupby('allDate').apply(custom_summary_functions).reset_index()\n",
    "    result_dataframes[number] = strata(grouped_df)\n",
    "\n",
    "# Now result_dataframes contains the processed DataFrames with additional death categories"
   ]
  },
  {
   "cell_type": "code",
   "execution_count": null,
   "id": "dbc22eb1",
   "metadata": {},
   "outputs": [],
   "source": [
    "\n",
    "# Define the path where you want to save the result_dataframes dictionary\n",
    "# desktop_path = '/path/to/your/desktop'  # Replace with the actual path to your desktop\n",
    "result_dataframes_path = os.path.join('C:\\\\Users\\\\dpw48\\\\OneDrive - Drexel University\\\\code\\\\MS252-Derek\\\\Data\\\\Python Processed Data\\\\','result_dataframes_subgroup.pkl')\n",
    "\n",
    "# Save the entire result_dataframes dictionary using pickle\n",
    "with open(result_dataframes_path, 'wb') as file:\n",
    "    pickle.dump(result_dataframes, file)"
   ]
  },
  {
   "cell_type": "markdown",
   "id": "8e60a75a",
   "metadata": {},
   "source": [
    "# Call data (pkl)"
   ]
  },
  {
   "cell_type": "code",
   "execution_count": null,
   "id": "9bd10e79",
   "metadata": {},
   "outputs": [],
   "source": [
    "result_dataframes_path = os.path.join('Data/MS 252 data_July 2024/Python Processed Data/','result_dataframes_subgroup.pkl')\n",
    "with open(result_dataframes_path, 'rb') as file:\n",
    "    loaded_result_dataframes = pickle.load(file)"
   ]
  },
  {
   "cell_type": "markdown",
   "id": "c0a3eebd",
   "metadata": {},
   "source": [
    "# Process data, combining all data"
   ]
  },
  {
   "cell_type": "code",
   "execution_count": null,
   "id": "8ccc689b",
   "metadata": {},
   "outputs": [],
   "source": [
    "df = pd.concat(loaded_result_dataframes.values(), keys=loaded_result_dataframes.keys()).reset_index()\n"
   ]
  },
  {
   "cell_type": "code",
   "execution_count": null,
   "id": "f57039a7",
   "metadata": {},
   "outputs": [],
   "source": [
    "csv_path = os.path.join('Data/MS 252 data_July 2024/Python Processed Data/','combined_subroup.csv')\n",
    "df.to_csv(csv_path)"
   ]
  },
  {
   "cell_type": "markdown",
   "id": "d1558e43",
   "metadata": {},
   "source": [
    "# Process data, combining all city-level effect modifiers"
   ]
  },
  {
   "cell_type": "code",
   "execution_count": null,
   "id": "3e9dd92b",
   "metadata": {},
   "outputs": [],
   "source": [
    "BEC1 = pd.read_csv(os.path.join('Data/MS252 requested data/','BEC_L1AD_08162023.csv'))\n",
    "BEC1 = BEC1[['ISO2','SALID1','BECADSTTLGAVGL1AD','BECCZL1AD','BECADSTTDENSL1AD','BECADLRDENSL1AD','BECADINTDENSL1AD','BECPTCHDENSL1AD','BECADINTDENS3L1AD','BECADINTDENS4L1AD','BECADSTTPNODEAVGL1AD','BECADSTTPNODESDL1AD','BECADSTTLGAVGL1AD','BECADCRCTYAVGL1AD','BECSTTPL1AD','BECPCTURBANL1AD','BECGSPCTL1AD', 'BECGSPTCHDENSL1AD','BECMINWAGEL1AD','BECELEVATIONMAXL1AD','BECELEVATIOVEL1AD','BECELEVATIONMEDIANL1AD','BECELEVATIONMINL1AD','BECELEVATIONP25L1AD','BECELEVATIONP75L1AD','BECELEVATIONSTDL1AD','BECSLOPEMAXL1AD','BECSLOPEAVEL1AD','BECSLOPEMEDIANL1AD','BECSLOPEMINL1AD','BECSLOPEP25L1AD','BECSLOPEP75L1AD','BECSLOPESTDL1AD']]\n",
    "BEC2 = pd.read_csv(os.path.join('Data/MS252 requested data/','BEC_RESTRICTED_L1AD_08162023.csv'))\n",
    "BEC2 = BEC2[['SALID1','BECURBTRVDELAYINDEXL1AD','BECURBAVGTRAFTIMEL1AD','BECURBTRVDELAYTIMEL1AD','BECPARKPCTAREAL1AD']]\n",
    "BEC = pd.merge(BEC1, BEC2, on='SALID1', how='inner')"
   ]
  },
  {
   "cell_type": "code",
   "execution_count": null,
   "id": "17aa2aaf",
   "metadata": {},
   "outputs": [],
   "source": [
    "temp = pd.read_csv(os.path.join('Data/MS252 requested data/','SEC_INDEXSCORES_L1AD_07102023.csv'))\n",
    "latest_indices = temp.groupby('SALID1')['YEAR'].idxmax()\n",
    "SEC = temp.loc[latest_indices, ['SALID1','CNSSEI_L1AD', 'CNSSE1_L1AD', 'CNSSE2_L1AD','CNSSE3_L1AD']]"
   ]
  },
  {
   "cell_type": "code",
   "execution_count": null,
   "id": "91c3665e",
   "metadata": {},
   "outputs": [],
   "source": [
    "temp = pd.read_csv(os.path.join('Data/MS252 requested data/','VehicleRegistration_L1AD_20201027.csv'))\n",
    "latest_indices = temp.groupby('SALID1')['YEAR'].idxmax()\n",
    "REG = temp.loc[latest_indices, ['SALID1','BECMTRBRATEL1AD','BECPAVRATEL1AD','BECTOTVRRATEL1AD']]"
   ]
  },
  {
   "cell_type": "code",
   "execution_count": null,
   "id": "b2414830",
   "metadata": {},
   "outputs": [],
   "source": [
    "df['salid1']=df['salid1'].astype(int)\n",
    "df_all=df.merge(BEC, left_on='salid1', right_on='SALID1').merge(SEC, on='SALID1').merge(REG, how='left',on='SALID1')\n",
    "#careful about this fillna\n",
    "# df_all.fillna(df_all.mean(), inplace=True)"
   ]
  },
  {
   "cell_type": "code",
   "execution_count": null,
   "id": "0946b2a0",
   "metadata": {},
   "outputs": [],
   "source": [
    "df_all.to_csv(os.path.join('Data/MS 252 data_July 2024/Python Processed Data/','final_subgroup.csv'), index=False)\n",
    "\n"
   ]
  },
  {
   "cell_type": "markdown",
   "id": "cc513950",
   "metadata": {},
   "source": [
    "# load data back"
   ]
  },
  {
   "cell_type": "code",
   "execution_count": null,
   "id": "c472e1ed",
   "metadata": {},
   "outputs": [],
   "source": [
    "final=pd.read_csv('/Users/cheng-kaihsu/Library/Mobile Documents/com~apple~CloudDocs/Berkeley/Fall 2023/SALURBAL/Data/MS 252 data_July 2024/Python Processed Data/final_subgroup.csv')\n",
    "\n",
    "################################################################################\n",
    "# BELOW NOT NEEDED ANYMORE SINCE THE NEW DATASET ALREADY CONTAINS ROUNDED VALUES\n",
    "################################################################################\n",
    "# Function to round non-integer values randomly up or down\n",
    "# def random_round(value):\n",
    "#     if value.is_integer():\n",
    "#         return int(value)\n",
    "#     else:\n",
    "#         return int(value) + np.random.choice([0, 1])\n",
    "# #\n",
    "# # Apply the function to the 'median_road' column\n",
    "# final['median_road_round'] = final['median_road'].apply(random_round)\n",
    "# final['median_vehicle_round'] = final['median_vehicle'].apply(random_round)\n",
    "# final['median_motorcycle_round'] = final['median_motorcycle'].apply(random_round)\n",
    "# final['median_bicycle_round'] = final['median_bicycle'].apply(random_round)\n",
    "# final['median_ped_round'] = final['median_ped'].apply(random_round)\n",
    "# final['male_deaths_round'] = final['male_deaths'].apply(random_round)\n",
    "# final['female_deaths_round'] = final['female_deaths'].apply(random_round)\n",
    "# final['deaths_under_9_round'] = final['deaths_under_9'].apply(random_round)\n",
    "# final['deaths_10_19_round'] = final['deaths_10_19'].apply(random_round)\n",
    "# final['deaths_20_34_round'] = final['deaths_20_34'].apply(random_round)\n",
    "# final['deaths_35_64_round'] = final['deaths_35_64'].apply(random_round)\n",
    "# final['deaths_65_plus_round'] = final['deaths_65_plus'].apply(random_round)\n"
   ]
  },
  {
   "cell_type": "markdown",
   "id": "21dcd95c",
   "metadata": {},
   "source": [
    "# Temperature cluster"
   ]
  },
  {
   "cell_type": "code",
   "execution_count": null,
   "id": "fa2e8902",
   "metadata": {},
   "outputs": [],
   "source": [
    "# pip install pyreadstat\n",
    "import pyreadstat\n",
    "\n",
    "# Replace \"path/to/your/file.sas7bdat\" with the actual file path\n",
    "file_path = \"/Users/cheng-kaihsu/Library/Mobile Documents/com~apple~CloudDocs/Berkeley/Fall 2023/SALURBAL/Data/city_level_temp_w_clusters.sas7bdat\"\n",
    "\n",
    "# Read the SAS dataset file\n",
    "temp_cluster, meta = pyreadstat.read_sas7bdat(file_path)\n"
   ]
  },
  {
   "cell_type": "code",
   "execution_count": null,
   "id": "783ce208",
   "metadata": {},
   "outputs": [],
   "source": [
    "final_temp_cluster=final.merge(temp_cluster, left_on='salid1', right_on='nsalid1')"
   ]
  },
  {
   "cell_type": "code",
   "execution_count": null,
   "id": "2a286f28",
   "metadata": {},
   "outputs": [],
   "source": [
    "final_temp_cluster.to_csv(os.path.join('Data/MS 252 data_July 2024/Python Processed Data/','final_temp_cluster_subgroup.csv'), index=False)\n"
   ]
  },
  {
   "cell_type": "markdown",
   "id": "4169b03e",
   "metadata": {},
   "source": [
    "# Descriptive"
   ]
  },
  {
   "cell_type": "code",
   "execution_count": null,
   "id": "474b5af4",
   "metadata": {},
   "outputs": [],
   "source": [
    "temp=pd.read_csv('Data/MS 252 data_July 2024/Python Processed Data/final_temp_cluster_subgroup.csv')"
   ]
  },
  {
   "cell_type": "code",
   "execution_count": null,
   "id": "431de260",
   "metadata": {},
   "outputs": [],
   "source": [
    "temp.groupby(['country','year'])['SALID1'].nunique().reset_index(name='unique_SALID1_count').to_csv('Data/MS 252 data_July 2024/Python Processed Data/SALID_count_by_country_year.csv')\n"
   ]
  },
  {
   "cell_type": "code",
   "execution_count": null,
   "id": "42619e57",
   "metadata": {
    "scrolled": true
   },
   "outputs": [],
   "source": [
    "# Set pandas options to display floats in a readable format\n",
    "pd.set_option('display.float_format', lambda x: f'{x:.2f}')\n",
    "\n",
    "# Calculate descriptive statistics\n",
    "temp.describe()[['median_road_round', 'median_vehicle_round',\n",
    "       'median_motorcycle_round', 'median_bicycle_round', 'median_ped_round','male_deaths', 'female_deaths', 'deaths_under_9', 'deaths_10_19',\n",
    "       'deaths_20_34', 'deaths_35_64', 'deaths_65_plus','L1ADtemp_pw', 'tmp_pw_percentile']].to_csv('Data/MS 252 data_July 2024/Python Processed Data/des.csv')\n"
   ]
  },
  {
   "cell_type": "code",
   "execution_count": null,
   "id": "89370423",
   "metadata": {},
   "outputs": [],
   "source": [
    "temp.columns[:40]"
   ]
  },
  {
   "cell_type": "code",
   "execution_count": null,
   "id": "7fc936fc",
   "metadata": {},
   "outputs": [],
   "source": [
    "city_counts = temp.groupby(['cluster_ward_std_6', 'salid1']).size().reset_index(name='counts')\n",
    "city_counts.groupby('cluster_ward_std_6')['salid1'].nunique().reset_index(name='num_cities')\n"
   ]
  },
  {
   "cell_type": "code",
   "execution_count": null,
   "id": "d3de8290",
   "metadata": {},
   "outputs": [],
   "source": [
    "temp['country'].unique()"
   ]
  },
  {
   "cell_type": "code",
   "execution_count": null,
   "id": "2965e61e",
   "metadata": {
    "scrolled": true
   },
   "outputs": [],
   "source": [
    "temp['salid1'].nunique()"
   ]
  }
 ],
 "metadata": {
  "kernelspec": {
   "display_name": "Python 3 (ipykernel)",
   "language": "python",
   "name": "python3"
  },
  "language_info": {
   "codemirror_mode": {
    "name": "ipython",
    "version": 3
   },
   "file_extension": ".py",
   "mimetype": "text/x-python",
   "name": "python",
   "nbconvert_exporter": "python",
   "pygments_lexer": "ipython3",
   "version": "3.12.3"
  }
 },
 "nbformat": 4,
 "nbformat_minor": 5
}
